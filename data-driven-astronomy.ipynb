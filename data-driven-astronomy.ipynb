{
 "cells": [
  {
   "cell_type": "markdown",
   "metadata": {},
   "source": [
    "# Data-driven Astronomy"
   ]
  },
  {
   "cell_type": "markdown",
   "metadata": {},
   "source": [
    "## Week 1 - Thinking about data"
   ]
  },
  {
   "cell_type": "code",
   "execution_count": 1,
   "metadata": {},
   "outputs": [],
   "source": [
    "import pandas as pd\n",
    "import numpy as np"
   ]
  },
  {
   "cell_type": "code",
   "execution_count": 2,
   "metadata": {},
   "outputs": [
    {
     "name": "stdout",
     "output_type": "stream",
     "text": [
      "(11.1, 11.4)\n"
     ]
    }
   ],
   "source": [
    "# Mean of a 1D array\n",
    "# Write your calc_stats function here.\n",
    "\n",
    "def calc_stats(file):\n",
    "  data = np.loadtxt(file, delimiter=',')\n",
    "  mean = np.mean(data)\n",
    "  median = np.median(data)\n",
    "  \n",
    "  return (np.round(mean, 1),np.round(median, 1))\n",
    "\n",
    "# You can use this to test your function.\n",
    "# Any code inside this `if` statement will be ignored by the automarker.\n",
    "if __name__ == '__main__':\n",
    "  # Run your `calc_stats` function with examples:\n",
    "  mean = calc_stats('data.csv')\n",
    "  print(mean)"
   ]
  },
  {
   "cell_type": "code",
   "execution_count": null,
   "metadata": {},
   "outputs": [],
   "source": []
  }
 ],
 "metadata": {
  "kernelspec": {
   "display_name": "Python 3",
   "language": "python",
   "name": "python3"
  },
  "language_info": {
   "codemirror_mode": {
    "name": "ipython",
    "version": 3
   },
   "file_extension": ".py",
   "mimetype": "text/x-python",
   "name": "python",
   "nbconvert_exporter": "python",
   "pygments_lexer": "ipython3",
   "version": "3.7.4"
  }
 },
 "nbformat": 4,
 "nbformat_minor": 2
}
